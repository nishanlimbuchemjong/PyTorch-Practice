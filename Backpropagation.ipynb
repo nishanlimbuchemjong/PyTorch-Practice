{
 "cells": [
  {
   "cell_type": "markdown",
   "id": "59701748-e961-45a9-a934-0652817a6954",
   "metadata": {},
   "source": [
    "# Using Numpy"
   ]
  },
  {
   "cell_type": "code",
   "execution_count": 1,
   "id": "e2a8f442-e2c4-4f67-a3a0-52d622d57c2c",
   "metadata": {},
   "outputs": [],
   "source": [
    "import numpy as np"
   ]
  },
  {
   "cell_type": "code",
   "execution_count": 47,
   "id": "bd5971f1-a11b-4fdd-a3e9-5cd468a9c37f",
   "metadata": {},
   "outputs": [],
   "source": [
    "x = np.array([1, 2, 3, 4], dtype=np.float32)\n",
    "y = np.array([5, 6, 7, 9], dtype=np.float32)"
   ]
  },
  {
   "cell_type": "code",
   "execution_count": 49,
   "id": "baff7e52-e20d-471d-8831-8f039a370be9",
   "metadata": {},
   "outputs": [],
   "source": [
    "w = 0.0"
   ]
  },
  {
   "cell_type": "code",
   "execution_count": 51,
   "id": "0f9ee43c-7790-4292-a394-47c13a97edab",
   "metadata": {},
   "outputs": [],
   "source": [
    "# model prediction:\n",
    "def forward(x):\n",
    "    return w * x\n"
   ]
  },
  {
   "cell_type": "code",
   "execution_count": 53,
   "id": "f77712a7-1f8b-4e67-81fe-4a4508f23c77",
   "metadata": {},
   "outputs": [],
   "source": [
    "# loss = MSE: \n",
    "def loss(y, y_predicted):\n",
    "    return ((y_predicted-y)**2).mean()"
   ]
  },
  {
   "cell_type": "code",
   "execution_count": 55,
   "id": "56533956-9984-4423-bd1a-78f3ca4c0aa6",
   "metadata": {},
   "outputs": [],
   "source": [
    "# gradient:\n",
    "\n",
    "def gradient(x, y, y_predicted):\n",
    "    return np.dot(2*x, y_predicted-y).mean()"
   ]
  },
  {
   "cell_type": "code",
   "execution_count": 57,
   "id": "986e43dc-9208-4c30-857c-ef0867343b01",
   "metadata": {},
   "outputs": [
    {
     "name": "stdout",
     "output_type": "stream",
     "text": [
      "Prediction before training: f(5) = 0.000\n"
     ]
    }
   ],
   "source": [
    "print(f\"Prediction before training: f(5) = {forward(5):.3f}\")"
   ]
  },
  {
   "cell_type": "code",
   "execution_count": 59,
   "id": "022cf105-847a-4b77-8b77-8bae3c3b09e5",
   "metadata": {},
   "outputs": [
    {
     "name": "stdout",
     "output_type": "stream",
     "text": [
      "epoch 1: w = 1.480, loss = 47.75000000\n",
      "epoch 3: w = 2.309, loss = 3.28487968\n",
      "epoch 5: w = 2.441, loss = 2.14657283\n",
      "epoch 7: w = 2.463, loss = 2.11743212\n",
      "epoch 9: w = 2.466, loss = 2.11668634\n",
      "epoch 11: w = 2.467, loss = 2.11666727\n",
      "epoch 13: w = 2.467, loss = 2.11666679\n",
      "epoch 15: w = 2.467, loss = 2.11666656\n",
      "epoch 17: w = 2.467, loss = 2.11666679\n",
      "epoch 19: w = 2.467, loss = 2.11666679\n",
      "Prediction after training: f(5) = 12.333\n"
     ]
    }
   ],
   "source": [
    "\n",
    "# Training:\n",
    "learning_rate = 0.01\n",
    "n_itrs = 20\n",
    "for epoch in range(n_itrs):\n",
    "    # prediction = forward pass\n",
    "    y_pred = forward(x)\n",
    "\n",
    "    # loss = MSE\n",
    "    l = loss(y, y_pred)\n",
    "\n",
    "    # gradient:\n",
    "    dw = gradient(x, y, y_pred)\n",
    "\n",
    "    # Update the weights\n",
    "    w -= learning_rate * dw\n",
    "\n",
    "    if epoch % 2 == 0:\n",
    "        print(f\"epoch {epoch+1}: w = {w:.3f}, loss = {l:.8f}\")\n",
    "print(f\"Prediction after training: f(5) = {forward(5):.3f}\")"
   ]
  },
  {
   "cell_type": "markdown",
   "id": "dad47c91-e64e-4517-b5a1-0356fba31b0b",
   "metadata": {},
   "source": [
    "# Using PyTorch"
   ]
  },
  {
   "cell_type": "code",
   "execution_count": 63,
   "id": "38b94799-6a63-4555-a9ea-ea801bf19770",
   "metadata": {},
   "outputs": [],
   "source": [
    "import torch"
   ]
  },
  {
   "cell_type": "code",
   "execution_count": 73,
   "id": "59961bfa-95c0-4126-a448-aa4b5571404c",
   "metadata": {},
   "outputs": [],
   "source": [
    "x = torch.tensor([1, 2, 3, 4], dtype=torch.float32)\n",
    "y = torch.tensor([5, 6, 7, 9], dtype=torch.float32)\n",
    "w = torch.tensor(0.0, dtype=torch.float32, requires_grad=True)"
   ]
  },
  {
   "cell_type": "code",
   "execution_count": 75,
   "id": "a495b102-2c6c-4ab6-a81c-3f68289ef3d2",
   "metadata": {},
   "outputs": [],
   "source": [
    "# model prediction:\n",
    "def forward(x):\n",
    "    return w * x"
   ]
  },
  {
   "cell_type": "code",
   "execution_count": 77,
   "id": "b37fe2dc-0b65-46bf-aa55-abf839acde7d",
   "metadata": {},
   "outputs": [],
   "source": [
    "# loss = MSE: \n",
    "def loss(y, y_predicted):\n",
    "    return ((y_predicted-y)**2).mean()"
   ]
  },
  {
   "cell_type": "code",
   "execution_count": 83,
   "id": "7c09ea9d-f924-4344-8f20-c86c61d74077",
   "metadata": {},
   "outputs": [
    {
     "name": "stdout",
     "output_type": "stream",
     "text": [
      "epoch 1: w = 2.412, loss = 2.14776611\n",
      "epoch 11: w = 2.456, loss = 2.11787224\n",
      "epoch 21: w = 2.465, loss = 2.11671352\n",
      "epoch 31: w = 2.466, loss = 2.11666846\n",
      "epoch 41: w = 2.467, loss = 2.11666679\n",
      "epoch 51: w = 2.467, loss = 2.11666679\n",
      "epoch 61: w = 2.467, loss = 2.11666679\n",
      "epoch 71: w = 2.467, loss = 2.11666656\n",
      "epoch 81: w = 2.467, loss = 2.11666656\n",
      "epoch 91: w = 2.467, loss = 2.11666656\n",
      "Prediction after training: f(5) = 12.333\n"
     ]
    }
   ],
   "source": [
    "\n",
    "# Training:\n",
    "learning_rate = 0.01\n",
    "n_itrs = 100\n",
    "for epoch in range(n_itrs):\n",
    "    # prediction = forward pass\n",
    "    y_pred = forward(x)\n",
    "\n",
    "    # loss = MSE\n",
    "    l = loss(y, y_pred)\n",
    "\n",
    "    # gradient = backward\n",
    "    l.backward() # dl/dw\n",
    "\n",
    "    # Update the weights\n",
    "    with torch.no_grad():\n",
    "        w -= learning_rate * w.grad\n",
    "    # zero gradient\n",
    "    w.grad.zero_()\n",
    "    if epoch % 10 == 0:\n",
    "        print(f\"epoch {epoch+1}: w = {w:.3f}, loss = {l:.8f}\")\n",
    "print(f\"Prediction after training: f(5) = {forward(5):.3f}\")"
   ]
  },
  {
   "cell_type": "code",
   "execution_count": null,
   "id": "04d0b1bc-5981-48c6-9e4d-15890ecc884a",
   "metadata": {},
   "outputs": [],
   "source": []
  }
 ],
 "metadata": {
  "kernelspec": {
   "display_name": "Python [conda env:base] *",
   "language": "python",
   "name": "conda-base-py"
  },
  "language_info": {
   "codemirror_mode": {
    "name": "ipython",
    "version": 3
   },
   "file_extension": ".py",
   "mimetype": "text/x-python",
   "name": "python",
   "nbconvert_exporter": "python",
   "pygments_lexer": "ipython3",
   "version": "3.12.7"
  }
 },
 "nbformat": 4,
 "nbformat_minor": 5
}
