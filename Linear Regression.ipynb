{
 "cells": [
  {
   "cell_type": "code",
   "execution_count": 1,
   "id": "40be3b6c-96ee-416a-8e3b-717104921c1e",
   "metadata": {},
   "outputs": [],
   "source": [
    "import torch\n",
    "import torch.nn as nn\n",
    "import numpy as np\n",
    "from sklearn import datasets\n",
    "import matplotlib.pyplot as plt"
   ]
  },
  {
   "cell_type": "code",
   "execution_count": 18,
   "id": "53a3ed45-27f4-484d-a1de-41e9cb6d6fc3",
   "metadata": {},
   "outputs": [],
   "source": [
    "# preparing data:\n",
    "x_numpy, y_numpy = datasets.make_regression(n_samples=100, n_features=1, noise=20, random_state=1)\n",
    "x = torch.from_numpy(x_numpy.astype(np.float32))\n",
    "y = torch.from_numpy(y_numpy.astype(np.float32))\n",
    "\n",
    "y = y.view(y.shape[0], 1)\n",
    "n_samples, n_features = x.shape"
   ]
  },
  {
   "cell_type": "markdown",
   "id": "a4fc374a-0fe6-4c1f-aa9a-d19014263fb2",
   "metadata": {},
   "source": [
    "# 1. Model Design"
   ]
  },
  {
   "cell_type": "code",
   "execution_count": 22,
   "id": "5be4cb23-b9c4-49b4-a835-d9da90df4776",
   "metadata": {},
   "outputs": [],
   "source": [
    "input_size = n_features\n",
    "output_size = 1"
   ]
  },
  {
   "cell_type": "code",
   "execution_count": 36,
   "id": "045028d9-3a9b-4bb4-aa82-1f4c9c3e5e43",
   "metadata": {},
   "outputs": [],
   "source": [
    "model = nn.Linear(input_size, output_size)\n"
   ]
  },
  {
   "cell_type": "code",
   "execution_count": null,
   "id": "7cef7097-9e31-4092-b458-0b3b8e2a8b86",
   "metadata": {},
   "outputs": [],
   "source": []
  },
  {
   "cell_type": "code",
   "execution_count": null,
   "id": "57c9f1d0-a065-4b81-9fb4-f25137307af3",
   "metadata": {},
   "outputs": [],
   "source": []
  },
  {
   "cell_type": "markdown",
   "id": "e2f98bdd-c0c4-4cf5-b986-8c2040dff9ca",
   "metadata": {},
   "source": [
    "# 2. Loss and Optimizer"
   ]
  },
  {
   "cell_type": "code",
   "execution_count": 38,
   "id": "e05d5513-4068-48d8-bcd4-8a782c343a8f",
   "metadata": {},
   "outputs": [],
   "source": [
    "criterion = nn.MSELoss()\n",
    "learning_rate = 0.01"
   ]
  },
  {
   "cell_type": "code",
   "execution_count": 40,
   "id": "aa5813d3-3a46-4127-8acf-e9c2e1624497",
   "metadata": {},
   "outputs": [],
   "source": [
    "optimizer = torch.optim.SGD(model.parameters(), lr=learning_rate)"
   ]
  },
  {
   "cell_type": "markdown",
   "id": "17f6a7ae-e5bf-4cc7-b345-6f045008d59b",
   "metadata": {},
   "source": [
    "# 3. Training"
   ]
  },
  {
   "cell_type": "code",
   "execution_count": 52,
   "id": "ffc19de5-aa1c-4432-8e03-c195fb1499b7",
   "metadata": {},
   "outputs": [
    {
     "name": "stdout",
     "output_type": "stream",
     "text": [
      "epoch: 10, loss = 3223.4780\n",
      "epoch: 20, loss = 2432.5376\n",
      "epoch: 30, loss = 1859.1663\n",
      "epoch: 40, loss = 1443.1300\n",
      "epoch: 50, loss = 1140.9982\n",
      "epoch: 60, loss = 921.4121\n",
      "epoch: 70, loss = 761.7040\n",
      "epoch: 80, loss = 645.4680\n",
      "epoch: 90, loss = 560.8201\n",
      "epoch: 100, loss = 499.1410\n"
     ]
    }
   ],
   "source": [
    "num_epoches = 100\n",
    "for epoch in range(num_epoches):\n",
    "    # forward pass and loss\n",
    "    y_pred = model(x)\n",
    "    loss = criterion(y_pred, y)\n",
    "    \n",
    "    # backward pass\n",
    "    loss.backward()\n",
    "    \n",
    "    # update\n",
    "    optimizer.step()\n",
    "    optimizer.zero_grad()\n",
    "\n",
    "    if (epoch + 1) % 10 == 0:\n",
    "        print(f\"epoch: {epoch+1}, loss = {loss.item():.4f}\")"
   ]
  },
  {
   "cell_type": "markdown",
   "id": "6fcd4329-1adc-4882-a1ae-e8908b493afa",
   "metadata": {},
   "source": [
    "# Plotting"
   ]
  },
  {
   "cell_type": "code",
   "execution_count": 55,
   "id": "0807eaa3-b2e5-466e-aba7-483027cf79ae",
   "metadata": {},
   "outputs": [
    {
     "data": {
      "image/png": "[encoded data removed]",
      "text/plain": [
       "<Figure size 640x480 with 1 Axes>"
      ]
     },
     "metadata": {},
     "output_type": "display_data"
    }
   ],
   "source": [
    "predicted = model(x).detach().numpy()\n",
    "plt.plot(x_numpy, y_numpy, 'ro')\n",
    "plt.plot(x_numpy, predicted, 'b')\n",
    "plt.show()"
   ]
  },
  {
   "cell_type": "code",
   "execution_count": null,
   "id": "82826192-a586-44b1-a6cb-cc49c03f3cb3",
   "metadata": {},
   "outputs": [],
   "source": []
  }
 ],
 "metadata": {
  "kernelspec": {
   "display_name": "Python [conda env:base] *",
   "language": "python",
   "name": "conda-base-py"
  },
  "language_info": {
   "codemirror_mode": {
    "name": "ipython",
    "version": 3
   },
   "file_extension": ".py",
   "mimetype": "text/x-python",
   "name": "python",
   "nbconvert_exporter": "python",
   "pygments_lexer": "ipython3",
   "version": "3.12.7"
  }
 },
 "nbformat": 4,
 "nbformat_minor": 5
}
