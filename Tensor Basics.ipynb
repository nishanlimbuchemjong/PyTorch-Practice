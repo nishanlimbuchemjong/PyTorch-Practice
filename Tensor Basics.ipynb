{
 "cells": [
  {
   "cell_type": "code",
   "execution_count": 1,
   "id": "50c5eb3f-2600-46ad-9f0f-957764a61cd8",
   "metadata": {},
   "outputs": [],
   "source": [
    "import torch"
   ]
  },
  {
   "cell_type": "markdown",
   "id": "09a6a762-f69a-46ab-83bf-9da598f873fe",
   "metadata": {},
   "source": [
    "# Tensor Basics"
   ]
  },
  {
   "cell_type": "code",
   "execution_count": 5,
   "id": "98ffb2a4-1bcf-4c47-ba9c-aafc7bd8e9ac",
   "metadata": {},
   "outputs": [
    {
     "name": "stdout",
     "output_type": "stream",
     "text": [
      "tensor([[0.2096, 0.2294, 0.0552],\n",
      "        [0.3598, 0.6591, 0.2096]])\n"
     ]
    },
    {
     "data": {
      "text/plain": [
       "torch.float32"
      ]
     },
     "execution_count": 5,
     "metadata": {},
     "output_type": "execute_result"
    }
   ],
   "source": [
    "x = torch.rand(2, 3)\n",
    "print(x)\n",
    "x.dtype"
   ]
  },
  {
   "cell_type": "code",
   "execution_count": 28,
   "id": "f32c52de-9c8e-4771-913b-a40d2d2e7bc7",
   "metadata": {},
   "outputs": [
    {
     "name": "stdout",
     "output_type": "stream",
     "text": [
      "tensor([[0.6934, 0.5034, 0.4338],\n",
      "        [0.5707, 0.2973, 0.0103]])\n"
     ]
    },
    {
     "data": {
      "text/plain": [
       "torch.float32"
      ]
     },
     "execution_count": 28,
     "metadata": {},
     "output_type": "execute_result"
    }
   ],
   "source": [
    "# giving specific datatype:\n",
    "y = torch.rand(2, 3, dtype=torch.float32)\n",
    "print(y)\n",
    "y.dtype"
   ]
  },
  {
   "cell_type": "code",
   "execution_count": 32,
   "id": "b1d7801c-a75d-49db-8769-f3c6d0de4115",
   "metadata": {},
   "outputs": [
    {
     "name": "stdout",
     "output_type": "stream",
     "text": [
      "tensor([[0.9030, 0.7328, 0.4890],\n",
      "        [0.9305, 0.9564, 0.2200]])\n"
     ]
    },
    {
     "data": {
      "text/plain": [
       "torch.float32"
      ]
     },
     "execution_count": 32,
     "metadata": {},
     "output_type": "execute_result"
    }
   ],
   "source": [
    "# addition:\n",
    "z = x + y\n",
    "print(z)\n",
    "z.dtype"
   ]
  },
  {
   "cell_type": "code",
   "execution_count": 34,
   "id": "7d430bc1-ae48-49a5-b845-dab4cf2093b1",
   "metadata": {},
   "outputs": [
    {
     "name": "stdout",
     "output_type": "stream",
     "text": [
      "tensor([[0.9030, 0.7328, 0.4890],\n",
      "        [0.9305, 0.9564, 0.2200]])\n"
     ]
    }
   ],
   "source": [
    "# we can also use a medthod add for adding x and y:\n",
    "a = torch.add(x, y)\n",
    "print(a)"
   ]
  },
  {
   "cell_type": "code",
   "execution_count": 36,
   "id": "f342cfbc-3a16-4238-8892-6eeef3e12aa2",
   "metadata": {},
   "outputs": [
    {
     "name": "stdout",
     "output_type": "stream",
     "text": [
      "tensor([[0.1454, 0.1155, 0.0239],\n",
      "        [0.2053, 0.1959, 0.0022]])\n"
     ]
    },
    {
     "data": {
      "text/plain": [
       "torch.float32"
      ]
     },
     "execution_count": 36,
     "metadata": {},
     "output_type": "execute_result"
    }
   ],
   "source": [
    "# for multiplication:\n",
    "b = torch.mul(x,y)\n",
    "print(b)\n",
    "b.dtype"
   ]
  },
  {
   "cell_type": "code",
   "execution_count": 40,
   "id": "b6ebcf22-d956-48e2-b442-f10a26201a34",
   "metadata": {},
   "outputs": [
    {
     "data": {
      "text/plain": [
       "torch.Size([2, 3])"
      ]
     },
     "execution_count": 40,
     "metadata": {},
     "output_type": "execute_result"
    }
   ],
   "source": [
    "# determine the size:\n",
    "b.size()"
   ]
  },
  {
   "cell_type": "markdown",
   "id": "fafc486e-ae70-4865-8cd9-11b40b87f9a8",
   "metadata": {},
   "source": [
    "# create from tensor to numpy array:"
   ]
  },
  {
   "cell_type": "code",
   "execution_count": 71,
   "id": "85ff510f-15f3-432b-a650-2bcc754fc6fb",
   "metadata": {},
   "outputs": [],
   "source": [
    "import numpy as np"
   ]
  },
  {
   "cell_type": "code",
   "execution_count": 73,
   "id": "d7fc91a7-dc36-434a-ba0e-5232fd2afd70",
   "metadata": {},
   "outputs": [
    {
     "name": "stdout",
     "output_type": "stream",
     "text": [
      "tensor([1., 1., 1., 1., 1.])\n"
     ]
    },
    {
     "data": {
      "text/plain": [
       "torch.Tensor"
      ]
     },
     "execution_count": 73,
     "metadata": {},
     "output_type": "execute_result"
    }
   ],
   "source": [
    "a = torch.ones(5)\n",
    "print(a)\n",
    "type(a)"
   ]
  },
  {
   "cell_type": "markdown",
   "id": "ebab3505-2aa7-4d14-bf72-ddbd4341f322",
   "metadata": {},
   "source": [
    "###  Convert Tensor to Numpy"
   ]
  },
  {
   "cell_type": "code",
   "execution_count": 75,
   "id": "96af381b-7175-4d9e-a28d-4c21d92bb4b3",
   "metadata": {},
   "outputs": [
    {
     "name": "stdout",
     "output_type": "stream",
     "text": [
      "[1. 1. 1. 1. 1.]\n"
     ]
    },
    {
     "data": {
      "text/plain": [
       "numpy.ndarray"
      ]
     },
     "execution_count": 75,
     "metadata": {},
     "output_type": "execute_result"
    }
   ],
   "source": [
    "b = a.numpy()\n",
    "print(b)\n",
    "type(b)"
   ]
  },
  {
   "cell_type": "code",
   "execution_count": 77,
   "id": "2e3bdbf9-6c1b-43f5-8896-0098d595acb4",
   "metadata": {},
   "outputs": [
    {
     "name": "stdout",
     "output_type": "stream",
     "text": [
      "tensor([4., 4., 4., 4., 4.])\n"
     ]
    },
    {
     "data": {
      "text/plain": [
       "torch.Tensor"
      ]
     },
     "execution_count": 77,
     "metadata": {},
     "output_type": "execute_result"
    }
   ],
   "source": [
    "# Modify the tensor:\n",
    "a.add_(3)\n",
    "print(a)\n",
    "type(a)"
   ]
  },
  {
   "cell_type": "code",
   "execution_count": 79,
   "id": "976c2f21-9131-4025-983d-6b344c36c5e8",
   "metadata": {},
   "outputs": [
    {
     "name": "stdout",
     "output_type": "stream",
     "text": [
      "[4. 4. 4. 4. 4.]\n"
     ]
    },
    {
     "data": {
      "text/plain": [
       "numpy.ndarray"
      ]
     },
     "execution_count": 79,
     "metadata": {},
     "output_type": "execute_result"
    }
   ],
   "source": [
    "# then the numpy array b is automatically changed\n",
    "print(b)\n",
    "type(b)"
   ]
  },
  {
   "cell_type": "markdown",
   "id": "7a63cbf6-6aea-4c18-bfc4-dbcb74b91c96",
   "metadata": {},
   "source": [
    "### Convert Numpy to Tensor:"
   ]
  },
  {
   "cell_type": "code",
   "execution_count": 88,
   "id": "f7af5009-1705-4fd5-b171-dd9b93676215",
   "metadata": {},
   "outputs": [
    {
     "name": "stdout",
     "output_type": "stream",
     "text": [
      "[1. 1. 1. 1. 1.]\n"
     ]
    },
    {
     "data": {
      "text/plain": [
       "numpy.ndarray"
      ]
     },
     "execution_count": 88,
     "metadata": {},
     "output_type": "execute_result"
    }
   ],
   "source": [
    "a = np.ones(5)\n",
    "print(a)\n",
    "type(a)"
   ]
  },
  {
   "cell_type": "code",
   "execution_count": 98,
   "id": "6ec6bd4b-99b5-4d76-9441-fb55b03325c1",
   "metadata": {},
   "outputs": [
    {
     "name": "stdout",
     "output_type": "stream",
     "text": [
      "tensor([1., 1., 1., 1., 1.], dtype=torch.float64)\n"
     ]
    },
    {
     "data": {
      "text/plain": [
       "torch.Tensor"
      ]
     },
     "execution_count": 98,
     "metadata": {},
     "output_type": "execute_result"
    }
   ],
   "source": [
    "b = torch.from_numpy(a)\n",
    "print(b)\n",
    "type(b)"
   ]
  },
  {
   "cell_type": "code",
   "execution_count": null,
   "id": "37deafdc-e4ea-4290-8f2a-1dd0e6ba18e9",
   "metadata": {},
   "outputs": [],
   "source": []
  }
 ],
 "metadata": {
  "kernelspec": {
   "display_name": "Python [conda env:base] *",
   "language": "python",
   "name": "conda-base-py"
  },
  "language_info": {
   "codemirror_mode": {
    "name": "ipython",
    "version": 3
   },
   "file_extension": ".py",
   "mimetype": "text/x-python",
   "name": "python",
   "nbconvert_exporter": "python",
   "pygments_lexer": "ipython3",
   "version": "3.12.7"
  }
 },
 "nbformat": 4,
 "nbformat_minor": 5
}
